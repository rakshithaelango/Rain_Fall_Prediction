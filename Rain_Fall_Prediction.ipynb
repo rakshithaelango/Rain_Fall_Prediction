{
  "nbformat": 4,
  "nbformat_minor": 0,
  "metadata": {
    "colab": {
      "provenance": [],
      "authorship_tag": "ABX9TyMUGvcLqFgLSJW8ol9xYmsA",
      "include_colab_link": true
    },
    "kernelspec": {
      "name": "python3",
      "display_name": "Python 3"
    },
    "language_info": {
      "name": "python"
    }
  },
  "cells": [
    {
      "cell_type": "markdown",
      "metadata": {
        "id": "view-in-github",
        "colab_type": "text"
      },
      "source": [
        "<a href=\"https://colab.research.google.com/github/rakshithaelango/Rain_Fall_Prediction/blob/main/Rain_Fall_Prediction.ipynb\" target=\"_parent\"><img src=\"https://colab.research.google.com/assets/colab-badge.svg\" alt=\"Open In Colab\"/></a>"
      ]
    },
    {
      "cell_type": "markdown",
      "source": [
        "# **Rain Fall Prediction**"
      ],
      "metadata": {
        "id": "Uas7LzfseUcw"
      }
    },
    {
      "cell_type": "markdown",
      "source": [
        "## **Problem Statement :** \n",
        "\n",
        "\n",
        "Rainfall detection is one of the most important real-life problems. Weather plays a crucial role in the whole agricultural process. It is not that easy to predict the course of weather accurately and here is where Machine Learning come to play. "
      ],
      "metadata": {
        "id": "mwaH5pLTeaHw"
      }
    },
    {
      "cell_type": "markdown",
      "source": [
        "**Importing Packages**"
      ],
      "metadata": {
        "id": "NaT6AtOne50A"
      }
    },
    {
      "cell_type": "code",
      "execution_count": 30,
      "metadata": {
        "id": "lhN0_Dk-auPZ"
      },
      "outputs": [],
      "source": [
        "# Importing packages \n",
        "import pandas as pd\n",
        "import numpy as np\n",
        "import matplotlib.pyplot as plt\n",
        "\n",
        "from sklearn.model_selection import train_test_split\n",
        "from sklearn.metrics import mean_absolute_error\n",
        "from sklearn.ensemble import RandomForestRegressor\n",
        "from sklearn.linear_model import LinearRegression\n"
      ]
    },
    {
      "cell_type": "markdown",
      "source": [
        "**Loading DataSet**"
      ],
      "metadata": {
        "id": "Q5XR43VvfCi4"
      }
    },
    {
      "cell_type": "code",
      "source": [
        "# Load DataSet\n",
        "df = pd.read_csv('/content/rainfall in india 1901-2015.csv')"
      ],
      "metadata": {
        "id": "G1IwMmj2a8Io"
      },
      "execution_count": 2,
      "outputs": []
    },
    {
      "cell_type": "markdown",
      "source": [
        "**Exploring DataSet**"
      ],
      "metadata": {
        "id": "-Vwc-sH9fIz3"
      }
    },
    {
      "cell_type": "code",
      "source": [
        "# first 5 rows\n",
        "df.head()"
      ],
      "metadata": {
        "colab": {
          "base_uri": "https://localhost:8080/",
          "height": 250
        },
        "id": "ivWZm63ka_oj",
        "outputId": "2282f1db-07f3-4882-cedd-a2e454ee5855"
      },
      "execution_count": 3,
      "outputs": [
        {
          "output_type": "execute_result",
          "data": {
            "text/plain": [
              "                 SUBDIVISION  YEAR   JAN    FEB   MAR    APR    MAY    JUN  \\\n",
              "0  ANDAMAN & NICOBAR ISLANDS  1901  49.2   87.1  29.2    2.3  528.8  517.5   \n",
              "1  ANDAMAN & NICOBAR ISLANDS  1902   0.0  159.8  12.2    0.0  446.1  537.1   \n",
              "2  ANDAMAN & NICOBAR ISLANDS  1903  12.7  144.0   0.0    1.0  235.1  479.9   \n",
              "3  ANDAMAN & NICOBAR ISLANDS  1904   9.4   14.7   0.0  202.4  304.5  495.1   \n",
              "4  ANDAMAN & NICOBAR ISLANDS  1905   1.3    0.0   3.3   26.9  279.5  628.7   \n",
              "\n",
              "     JUL    AUG    SEP    OCT    NOV    DEC  ANNUAL  Jan-Feb  Mar-May  \\\n",
              "0  365.1  481.1  332.6  388.5  558.2   33.6  3373.2    136.3    560.3   \n",
              "1  228.9  753.7  666.2  197.2  359.0  160.5  3520.7    159.8    458.3   \n",
              "2  728.4  326.7  339.0  181.2  284.4  225.0  2957.4    156.7    236.1   \n",
              "3  502.0  160.1  820.4  222.2  308.7   40.1  3079.6     24.1    506.9   \n",
              "4  368.7  330.5  297.0  260.7   25.4  344.7  2566.7      1.3    309.7   \n",
              "\n",
              "   Jun-Sep  Oct-Dec  \n",
              "0   1696.3    980.3  \n",
              "1   2185.9    716.7  \n",
              "2   1874.0    690.6  \n",
              "3   1977.6    571.0  \n",
              "4   1624.9    630.8  "
            ],
            "text/html": [
              "\n",
              "  <div id=\"df-94d95b93-7cc9-4f4a-a01e-bea1b75289a8\">\n",
              "    <div class=\"colab-df-container\">\n",
              "      <div>\n",
              "<style scoped>\n",
              "    .dataframe tbody tr th:only-of-type {\n",
              "        vertical-align: middle;\n",
              "    }\n",
              "\n",
              "    .dataframe tbody tr th {\n",
              "        vertical-align: top;\n",
              "    }\n",
              "\n",
              "    .dataframe thead th {\n",
              "        text-align: right;\n",
              "    }\n",
              "</style>\n",
              "<table border=\"1\" class=\"dataframe\">\n",
              "  <thead>\n",
              "    <tr style=\"text-align: right;\">\n",
              "      <th></th>\n",
              "      <th>SUBDIVISION</th>\n",
              "      <th>YEAR</th>\n",
              "      <th>JAN</th>\n",
              "      <th>FEB</th>\n",
              "      <th>MAR</th>\n",
              "      <th>APR</th>\n",
              "      <th>MAY</th>\n",
              "      <th>JUN</th>\n",
              "      <th>JUL</th>\n",
              "      <th>AUG</th>\n",
              "      <th>SEP</th>\n",
              "      <th>OCT</th>\n",
              "      <th>NOV</th>\n",
              "      <th>DEC</th>\n",
              "      <th>ANNUAL</th>\n",
              "      <th>Jan-Feb</th>\n",
              "      <th>Mar-May</th>\n",
              "      <th>Jun-Sep</th>\n",
              "      <th>Oct-Dec</th>\n",
              "    </tr>\n",
              "  </thead>\n",
              "  <tbody>\n",
              "    <tr>\n",
              "      <th>0</th>\n",
              "      <td>ANDAMAN &amp; NICOBAR ISLANDS</td>\n",
              "      <td>1901</td>\n",
              "      <td>49.2</td>\n",
              "      <td>87.1</td>\n",
              "      <td>29.2</td>\n",
              "      <td>2.3</td>\n",
              "      <td>528.8</td>\n",
              "      <td>517.5</td>\n",
              "      <td>365.1</td>\n",
              "      <td>481.1</td>\n",
              "      <td>332.6</td>\n",
              "      <td>388.5</td>\n",
              "      <td>558.2</td>\n",
              "      <td>33.6</td>\n",
              "      <td>3373.2</td>\n",
              "      <td>136.3</td>\n",
              "      <td>560.3</td>\n",
              "      <td>1696.3</td>\n",
              "      <td>980.3</td>\n",
              "    </tr>\n",
              "    <tr>\n",
              "      <th>1</th>\n",
              "      <td>ANDAMAN &amp; NICOBAR ISLANDS</td>\n",
              "      <td>1902</td>\n",
              "      <td>0.0</td>\n",
              "      <td>159.8</td>\n",
              "      <td>12.2</td>\n",
              "      <td>0.0</td>\n",
              "      <td>446.1</td>\n",
              "      <td>537.1</td>\n",
              "      <td>228.9</td>\n",
              "      <td>753.7</td>\n",
              "      <td>666.2</td>\n",
              "      <td>197.2</td>\n",
              "      <td>359.0</td>\n",
              "      <td>160.5</td>\n",
              "      <td>3520.7</td>\n",
              "      <td>159.8</td>\n",
              "      <td>458.3</td>\n",
              "      <td>2185.9</td>\n",
              "      <td>716.7</td>\n",
              "    </tr>\n",
              "    <tr>\n",
              "      <th>2</th>\n",
              "      <td>ANDAMAN &amp; NICOBAR ISLANDS</td>\n",
              "      <td>1903</td>\n",
              "      <td>12.7</td>\n",
              "      <td>144.0</td>\n",
              "      <td>0.0</td>\n",
              "      <td>1.0</td>\n",
              "      <td>235.1</td>\n",
              "      <td>479.9</td>\n",
              "      <td>728.4</td>\n",
              "      <td>326.7</td>\n",
              "      <td>339.0</td>\n",
              "      <td>181.2</td>\n",
              "      <td>284.4</td>\n",
              "      <td>225.0</td>\n",
              "      <td>2957.4</td>\n",
              "      <td>156.7</td>\n",
              "      <td>236.1</td>\n",
              "      <td>1874.0</td>\n",
              "      <td>690.6</td>\n",
              "    </tr>\n",
              "    <tr>\n",
              "      <th>3</th>\n",
              "      <td>ANDAMAN &amp; NICOBAR ISLANDS</td>\n",
              "      <td>1904</td>\n",
              "      <td>9.4</td>\n",
              "      <td>14.7</td>\n",
              "      <td>0.0</td>\n",
              "      <td>202.4</td>\n",
              "      <td>304.5</td>\n",
              "      <td>495.1</td>\n",
              "      <td>502.0</td>\n",
              "      <td>160.1</td>\n",
              "      <td>820.4</td>\n",
              "      <td>222.2</td>\n",
              "      <td>308.7</td>\n",
              "      <td>40.1</td>\n",
              "      <td>3079.6</td>\n",
              "      <td>24.1</td>\n",
              "      <td>506.9</td>\n",
              "      <td>1977.6</td>\n",
              "      <td>571.0</td>\n",
              "    </tr>\n",
              "    <tr>\n",
              "      <th>4</th>\n",
              "      <td>ANDAMAN &amp; NICOBAR ISLANDS</td>\n",
              "      <td>1905</td>\n",
              "      <td>1.3</td>\n",
              "      <td>0.0</td>\n",
              "      <td>3.3</td>\n",
              "      <td>26.9</td>\n",
              "      <td>279.5</td>\n",
              "      <td>628.7</td>\n",
              "      <td>368.7</td>\n",
              "      <td>330.5</td>\n",
              "      <td>297.0</td>\n",
              "      <td>260.7</td>\n",
              "      <td>25.4</td>\n",
              "      <td>344.7</td>\n",
              "      <td>2566.7</td>\n",
              "      <td>1.3</td>\n",
              "      <td>309.7</td>\n",
              "      <td>1624.9</td>\n",
              "      <td>630.8</td>\n",
              "    </tr>\n",
              "  </tbody>\n",
              "</table>\n",
              "</div>\n",
              "      <button class=\"colab-df-convert\" onclick=\"convertToInteractive('df-94d95b93-7cc9-4f4a-a01e-bea1b75289a8')\"\n",
              "              title=\"Convert this dataframe to an interactive table.\"\n",
              "              style=\"display:none;\">\n",
              "        \n",
              "  <svg xmlns=\"http://www.w3.org/2000/svg\" height=\"24px\"viewBox=\"0 0 24 24\"\n",
              "       width=\"24px\">\n",
              "    <path d=\"M0 0h24v24H0V0z\" fill=\"none\"/>\n",
              "    <path d=\"M18.56 5.44l.94 2.06.94-2.06 2.06-.94-2.06-.94-.94-2.06-.94 2.06-2.06.94zm-11 1L8.5 8.5l.94-2.06 2.06-.94-2.06-.94L8.5 2.5l-.94 2.06-2.06.94zm10 10l.94 2.06.94-2.06 2.06-.94-2.06-.94-.94-2.06-.94 2.06-2.06.94z\"/><path d=\"M17.41 7.96l-1.37-1.37c-.4-.4-.92-.59-1.43-.59-.52 0-1.04.2-1.43.59L10.3 9.45l-7.72 7.72c-.78.78-.78 2.05 0 2.83L4 21.41c.39.39.9.59 1.41.59.51 0 1.02-.2 1.41-.59l7.78-7.78 2.81-2.81c.8-.78.8-2.07 0-2.86zM5.41 20L4 18.59l7.72-7.72 1.47 1.35L5.41 20z\"/>\n",
              "  </svg>\n",
              "      </button>\n",
              "      \n",
              "  <style>\n",
              "    .colab-df-container {\n",
              "      display:flex;\n",
              "      flex-wrap:wrap;\n",
              "      gap: 12px;\n",
              "    }\n",
              "\n",
              "    .colab-df-convert {\n",
              "      background-color: #E8F0FE;\n",
              "      border: none;\n",
              "      border-radius: 50%;\n",
              "      cursor: pointer;\n",
              "      display: none;\n",
              "      fill: #1967D2;\n",
              "      height: 32px;\n",
              "      padding: 0 0 0 0;\n",
              "      width: 32px;\n",
              "    }\n",
              "\n",
              "    .colab-df-convert:hover {\n",
              "      background-color: #E2EBFA;\n",
              "      box-shadow: 0px 1px 2px rgba(60, 64, 67, 0.3), 0px 1px 3px 1px rgba(60, 64, 67, 0.15);\n",
              "      fill: #174EA6;\n",
              "    }\n",
              "\n",
              "    [theme=dark] .colab-df-convert {\n",
              "      background-color: #3B4455;\n",
              "      fill: #D2E3FC;\n",
              "    }\n",
              "\n",
              "    [theme=dark] .colab-df-convert:hover {\n",
              "      background-color: #434B5C;\n",
              "      box-shadow: 0px 1px 3px 1px rgba(0, 0, 0, 0.15);\n",
              "      filter: drop-shadow(0px 1px 2px rgba(0, 0, 0, 0.3));\n",
              "      fill: #FFFFFF;\n",
              "    }\n",
              "  </style>\n",
              "\n",
              "      <script>\n",
              "        const buttonEl =\n",
              "          document.querySelector('#df-94d95b93-7cc9-4f4a-a01e-bea1b75289a8 button.colab-df-convert');\n",
              "        buttonEl.style.display =\n",
              "          google.colab.kernel.accessAllowed ? 'block' : 'none';\n",
              "\n",
              "        async function convertToInteractive(key) {\n",
              "          const element = document.querySelector('#df-94d95b93-7cc9-4f4a-a01e-bea1b75289a8');\n",
              "          const dataTable =\n",
              "            await google.colab.kernel.invokeFunction('convertToInteractive',\n",
              "                                                     [key], {});\n",
              "          if (!dataTable) return;\n",
              "\n",
              "          const docLinkHtml = 'Like what you see? Visit the ' +\n",
              "            '<a target=\"_blank\" href=https://colab.research.google.com/notebooks/data_table.ipynb>data table notebook</a>'\n",
              "            + ' to learn more about interactive tables.';\n",
              "          element.innerHTML = '';\n",
              "          dataTable['output_type'] = 'display_data';\n",
              "          await google.colab.output.renderOutput(dataTable, element);\n",
              "          const docLink = document.createElement('div');\n",
              "          docLink.innerHTML = docLinkHtml;\n",
              "          element.appendChild(docLink);\n",
              "        }\n",
              "      </script>\n",
              "    </div>\n",
              "  </div>\n",
              "  "
            ]
          },
          "metadata": {},
          "execution_count": 3
        }
      ]
    },
    {
      "cell_type": "code",
      "source": [
        "# last 5 rows\n",
        "df.tail()"
      ],
      "metadata": {
        "colab": {
          "base_uri": "https://localhost:8080/",
          "height": 206
        },
        "id": "pa6v5e-pbLkW",
        "outputId": "25ba6d5e-d724-4b23-b4fb-1332ecd13a34"
      },
      "execution_count": 4,
      "outputs": [
        {
          "output_type": "execute_result",
          "data": {
            "text/plain": [
              "      SUBDIVISION  YEAR   JAN   FEB   MAR   APR    MAY    JUN    JUL    AUG  \\\n",
              "4111  LAKSHADWEEP  2011   5.1   2.8   3.1  85.9  107.2  153.6  350.2  254.0   \n",
              "4112  LAKSHADWEEP  2012  19.2   0.1   1.6  76.8   21.2  327.0  231.5  381.2   \n",
              "4113  LAKSHADWEEP  2013  26.2  34.4  37.5   5.3   88.3  426.2  296.4  154.4   \n",
              "4114  LAKSHADWEEP  2014  53.2  16.1   4.4  14.9   57.4  244.1  116.1  466.1   \n",
              "4115  LAKSHADWEEP  2015   2.2   0.5   3.7  87.1  133.1  296.6  257.5  146.4   \n",
              "\n",
              "        SEP    OCT    NOV    DEC  ANNUAL  Jan-Feb  Mar-May  Jun-Sep  Oct-Dec  \n",
              "4111  255.2  117.4  184.3   14.9  1533.7      7.9    196.2   1013.0    316.6  \n",
              "4112  179.8  145.9   12.4    8.8  1405.5     19.3     99.6   1119.5    167.1  \n",
              "4113  180.0   72.8   78.1   26.7  1426.3     60.6    131.1   1057.0    177.6  \n",
              "4114  132.2  169.2   59.0   62.3  1395.0     69.3     76.7    958.5    290.5  \n",
              "4115  160.4  165.4  231.0  159.0  1642.9      2.7    223.9    860.9    555.4  "
            ],
            "text/html": [
              "\n",
              "  <div id=\"df-0a85d86b-633c-480d-8a67-23856a8be6e5\">\n",
              "    <div class=\"colab-df-container\">\n",
              "      <div>\n",
              "<style scoped>\n",
              "    .dataframe tbody tr th:only-of-type {\n",
              "        vertical-align: middle;\n",
              "    }\n",
              "\n",
              "    .dataframe tbody tr th {\n",
              "        vertical-align: top;\n",
              "    }\n",
              "\n",
              "    .dataframe thead th {\n",
              "        text-align: right;\n",
              "    }\n",
              "</style>\n",
              "<table border=\"1\" class=\"dataframe\">\n",
              "  <thead>\n",
              "    <tr style=\"text-align: right;\">\n",
              "      <th></th>\n",
              "      <th>SUBDIVISION</th>\n",
              "      <th>YEAR</th>\n",
              "      <th>JAN</th>\n",
              "      <th>FEB</th>\n",
              "      <th>MAR</th>\n",
              "      <th>APR</th>\n",
              "      <th>MAY</th>\n",
              "      <th>JUN</th>\n",
              "      <th>JUL</th>\n",
              "      <th>AUG</th>\n",
              "      <th>SEP</th>\n",
              "      <th>OCT</th>\n",
              "      <th>NOV</th>\n",
              "      <th>DEC</th>\n",
              "      <th>ANNUAL</th>\n",
              "      <th>Jan-Feb</th>\n",
              "      <th>Mar-May</th>\n",
              "      <th>Jun-Sep</th>\n",
              "      <th>Oct-Dec</th>\n",
              "    </tr>\n",
              "  </thead>\n",
              "  <tbody>\n",
              "    <tr>\n",
              "      <th>4111</th>\n",
              "      <td>LAKSHADWEEP</td>\n",
              "      <td>2011</td>\n",
              "      <td>5.1</td>\n",
              "      <td>2.8</td>\n",
              "      <td>3.1</td>\n",
              "      <td>85.9</td>\n",
              "      <td>107.2</td>\n",
              "      <td>153.6</td>\n",
              "      <td>350.2</td>\n",
              "      <td>254.0</td>\n",
              "      <td>255.2</td>\n",
              "      <td>117.4</td>\n",
              "      <td>184.3</td>\n",
              "      <td>14.9</td>\n",
              "      <td>1533.7</td>\n",
              "      <td>7.9</td>\n",
              "      <td>196.2</td>\n",
              "      <td>1013.0</td>\n",
              "      <td>316.6</td>\n",
              "    </tr>\n",
              "    <tr>\n",
              "      <th>4112</th>\n",
              "      <td>LAKSHADWEEP</td>\n",
              "      <td>2012</td>\n",
              "      <td>19.2</td>\n",
              "      <td>0.1</td>\n",
              "      <td>1.6</td>\n",
              "      <td>76.8</td>\n",
              "      <td>21.2</td>\n",
              "      <td>327.0</td>\n",
              "      <td>231.5</td>\n",
              "      <td>381.2</td>\n",
              "      <td>179.8</td>\n",
              "      <td>145.9</td>\n",
              "      <td>12.4</td>\n",
              "      <td>8.8</td>\n",
              "      <td>1405.5</td>\n",
              "      <td>19.3</td>\n",
              "      <td>99.6</td>\n",
              "      <td>1119.5</td>\n",
              "      <td>167.1</td>\n",
              "    </tr>\n",
              "    <tr>\n",
              "      <th>4113</th>\n",
              "      <td>LAKSHADWEEP</td>\n",
              "      <td>2013</td>\n",
              "      <td>26.2</td>\n",
              "      <td>34.4</td>\n",
              "      <td>37.5</td>\n",
              "      <td>5.3</td>\n",
              "      <td>88.3</td>\n",
              "      <td>426.2</td>\n",
              "      <td>296.4</td>\n",
              "      <td>154.4</td>\n",
              "      <td>180.0</td>\n",
              "      <td>72.8</td>\n",
              "      <td>78.1</td>\n",
              "      <td>26.7</td>\n",
              "      <td>1426.3</td>\n",
              "      <td>60.6</td>\n",
              "      <td>131.1</td>\n",
              "      <td>1057.0</td>\n",
              "      <td>177.6</td>\n",
              "    </tr>\n",
              "    <tr>\n",
              "      <th>4114</th>\n",
              "      <td>LAKSHADWEEP</td>\n",
              "      <td>2014</td>\n",
              "      <td>53.2</td>\n",
              "      <td>16.1</td>\n",
              "      <td>4.4</td>\n",
              "      <td>14.9</td>\n",
              "      <td>57.4</td>\n",
              "      <td>244.1</td>\n",
              "      <td>116.1</td>\n",
              "      <td>466.1</td>\n",
              "      <td>132.2</td>\n",
              "      <td>169.2</td>\n",
              "      <td>59.0</td>\n",
              "      <td>62.3</td>\n",
              "      <td>1395.0</td>\n",
              "      <td>69.3</td>\n",
              "      <td>76.7</td>\n",
              "      <td>958.5</td>\n",
              "      <td>290.5</td>\n",
              "    </tr>\n",
              "    <tr>\n",
              "      <th>4115</th>\n",
              "      <td>LAKSHADWEEP</td>\n",
              "      <td>2015</td>\n",
              "      <td>2.2</td>\n",
              "      <td>0.5</td>\n",
              "      <td>3.7</td>\n",
              "      <td>87.1</td>\n",
              "      <td>133.1</td>\n",
              "      <td>296.6</td>\n",
              "      <td>257.5</td>\n",
              "      <td>146.4</td>\n",
              "      <td>160.4</td>\n",
              "      <td>165.4</td>\n",
              "      <td>231.0</td>\n",
              "      <td>159.0</td>\n",
              "      <td>1642.9</td>\n",
              "      <td>2.7</td>\n",
              "      <td>223.9</td>\n",
              "      <td>860.9</td>\n",
              "      <td>555.4</td>\n",
              "    </tr>\n",
              "  </tbody>\n",
              "</table>\n",
              "</div>\n",
              "      <button class=\"colab-df-convert\" onclick=\"convertToInteractive('df-0a85d86b-633c-480d-8a67-23856a8be6e5')\"\n",
              "              title=\"Convert this dataframe to an interactive table.\"\n",
              "              style=\"display:none;\">\n",
              "        \n",
              "  <svg xmlns=\"http://www.w3.org/2000/svg\" height=\"24px\"viewBox=\"0 0 24 24\"\n",
              "       width=\"24px\">\n",
              "    <path d=\"M0 0h24v24H0V0z\" fill=\"none\"/>\n",
              "    <path d=\"M18.56 5.44l.94 2.06.94-2.06 2.06-.94-2.06-.94-.94-2.06-.94 2.06-2.06.94zm-11 1L8.5 8.5l.94-2.06 2.06-.94-2.06-.94L8.5 2.5l-.94 2.06-2.06.94zm10 10l.94 2.06.94-2.06 2.06-.94-2.06-.94-.94-2.06-.94 2.06-2.06.94z\"/><path d=\"M17.41 7.96l-1.37-1.37c-.4-.4-.92-.59-1.43-.59-.52 0-1.04.2-1.43.59L10.3 9.45l-7.72 7.72c-.78.78-.78 2.05 0 2.83L4 21.41c.39.39.9.59 1.41.59.51 0 1.02-.2 1.41-.59l7.78-7.78 2.81-2.81c.8-.78.8-2.07 0-2.86zM5.41 20L4 18.59l7.72-7.72 1.47 1.35L5.41 20z\"/>\n",
              "  </svg>\n",
              "      </button>\n",
              "      \n",
              "  <style>\n",
              "    .colab-df-container {\n",
              "      display:flex;\n",
              "      flex-wrap:wrap;\n",
              "      gap: 12px;\n",
              "    }\n",
              "\n",
              "    .colab-df-convert {\n",
              "      background-color: #E8F0FE;\n",
              "      border: none;\n",
              "      border-radius: 50%;\n",
              "      cursor: pointer;\n",
              "      display: none;\n",
              "      fill: #1967D2;\n",
              "      height: 32px;\n",
              "      padding: 0 0 0 0;\n",
              "      width: 32px;\n",
              "    }\n",
              "\n",
              "    .colab-df-convert:hover {\n",
              "      background-color: #E2EBFA;\n",
              "      box-shadow: 0px 1px 2px rgba(60, 64, 67, 0.3), 0px 1px 3px 1px rgba(60, 64, 67, 0.15);\n",
              "      fill: #174EA6;\n",
              "    }\n",
              "\n",
              "    [theme=dark] .colab-df-convert {\n",
              "      background-color: #3B4455;\n",
              "      fill: #D2E3FC;\n",
              "    }\n",
              "\n",
              "    [theme=dark] .colab-df-convert:hover {\n",
              "      background-color: #434B5C;\n",
              "      box-shadow: 0px 1px 3px 1px rgba(0, 0, 0, 0.15);\n",
              "      filter: drop-shadow(0px 1px 2px rgba(0, 0, 0, 0.3));\n",
              "      fill: #FFFFFF;\n",
              "    }\n",
              "  </style>\n",
              "\n",
              "      <script>\n",
              "        const buttonEl =\n",
              "          document.querySelector('#df-0a85d86b-633c-480d-8a67-23856a8be6e5 button.colab-df-convert');\n",
              "        buttonEl.style.display =\n",
              "          google.colab.kernel.accessAllowed ? 'block' : 'none';\n",
              "\n",
              "        async function convertToInteractive(key) {\n",
              "          const element = document.querySelector('#df-0a85d86b-633c-480d-8a67-23856a8be6e5');\n",
              "          const dataTable =\n",
              "            await google.colab.kernel.invokeFunction('convertToInteractive',\n",
              "                                                     [key], {});\n",
              "          if (!dataTable) return;\n",
              "\n",
              "          const docLinkHtml = 'Like what you see? Visit the ' +\n",
              "            '<a target=\"_blank\" href=https://colab.research.google.com/notebooks/data_table.ipynb>data table notebook</a>'\n",
              "            + ' to learn more about interactive tables.';\n",
              "          element.innerHTML = '';\n",
              "          dataTable['output_type'] = 'display_data';\n",
              "          await google.colab.output.renderOutput(dataTable, element);\n",
              "          const docLink = document.createElement('div');\n",
              "          docLink.innerHTML = docLinkHtml;\n",
              "          element.appendChild(docLink);\n",
              "        }\n",
              "      </script>\n",
              "    </div>\n",
              "  </div>\n",
              "  "
            ]
          },
          "metadata": {},
          "execution_count": 4
        }
      ]
    },
    {
      "cell_type": "code",
      "source": [
        "# no of rows and columns\n",
        "df.shape"
      ],
      "metadata": {
        "colab": {
          "base_uri": "https://localhost:8080/"
        },
        "id": "E2S0wP4QbMif",
        "outputId": "2b035de3-826a-40b7-dbad-ea63a089b883"
      },
      "execution_count": 5,
      "outputs": [
        {
          "output_type": "execute_result",
          "data": {
            "text/plain": [
              "(4116, 19)"
            ]
          },
          "metadata": {},
          "execution_count": 5
        }
      ]
    },
    {
      "cell_type": "code",
      "source": [
        "# columns names \n",
        "df.columns"
      ],
      "metadata": {
        "colab": {
          "base_uri": "https://localhost:8080/"
        },
        "id": "uPNJHn4dbOUG",
        "outputId": "cb8da4b3-4d1e-414b-9f92-4cb3a7868e37"
      },
      "execution_count": 6,
      "outputs": [
        {
          "output_type": "execute_result",
          "data": {
            "text/plain": [
              "Index(['SUBDIVISION', 'YEAR', 'JAN', 'FEB', 'MAR', 'APR', 'MAY', 'JUN', 'JUL',\n",
              "       'AUG', 'SEP', 'OCT', 'NOV', 'DEC', 'ANNUAL', 'Jan-Feb', 'Mar-May',\n",
              "       'Jun-Sep', 'Oct-Dec'],\n",
              "      dtype='object')"
            ]
          },
          "metadata": {},
          "execution_count": 6
        }
      ]
    },
    {
      "cell_type": "code",
      "source": [
        "# overall information \n",
        "df.info()"
      ],
      "metadata": {
        "colab": {
          "base_uri": "https://localhost:8080/"
        },
        "id": "P8weZwPXbQIr",
        "outputId": "6d357b0a-a648-4f83-82b1-fb4d5f492e00"
      },
      "execution_count": 7,
      "outputs": [
        {
          "output_type": "stream",
          "name": "stdout",
          "text": [
            "<class 'pandas.core.frame.DataFrame'>\n",
            "RangeIndex: 4116 entries, 0 to 4115\n",
            "Data columns (total 19 columns):\n",
            " #   Column       Non-Null Count  Dtype  \n",
            "---  ------       --------------  -----  \n",
            " 0   SUBDIVISION  4116 non-null   object \n",
            " 1   YEAR         4116 non-null   int64  \n",
            " 2   JAN          4112 non-null   float64\n",
            " 3   FEB          4113 non-null   float64\n",
            " 4   MAR          4110 non-null   float64\n",
            " 5   APR          4112 non-null   float64\n",
            " 6   MAY          4113 non-null   float64\n",
            " 7   JUN          4111 non-null   float64\n",
            " 8   JUL          4109 non-null   float64\n",
            " 9   AUG          4112 non-null   float64\n",
            " 10  SEP          4110 non-null   float64\n",
            " 11  OCT          4109 non-null   float64\n",
            " 12  NOV          4105 non-null   float64\n",
            " 13  DEC          4106 non-null   float64\n",
            " 14  ANNUAL       4090 non-null   float64\n",
            " 15  Jan-Feb      4110 non-null   float64\n",
            " 16  Mar-May      4107 non-null   float64\n",
            " 17  Jun-Sep      4106 non-null   float64\n",
            " 18  Oct-Dec      4103 non-null   float64\n",
            "dtypes: float64(17), int64(1), object(1)\n",
            "memory usage: 611.1+ KB\n"
          ]
        }
      ]
    },
    {
      "cell_type": "markdown",
      "source": [
        "**Data Cleaning**"
      ],
      "metadata": {
        "id": "GYFO9NHPfYZP"
      }
    },
    {
      "cell_type": "code",
      "source": [
        "df.dtypes"
      ],
      "metadata": {
        "colab": {
          "base_uri": "https://localhost:8080/"
        },
        "id": "IVlFgZRpbSwj",
        "outputId": "85065b9b-ff27-44c8-bd34-f5f0c64f8f58"
      },
      "execution_count": 8,
      "outputs": [
        {
          "output_type": "execute_result",
          "data": {
            "text/plain": [
              "SUBDIVISION     object\n",
              "YEAR             int64\n",
              "JAN            float64\n",
              "FEB            float64\n",
              "MAR            float64\n",
              "APR            float64\n",
              "MAY            float64\n",
              "JUN            float64\n",
              "JUL            float64\n",
              "AUG            float64\n",
              "SEP            float64\n",
              "OCT            float64\n",
              "NOV            float64\n",
              "DEC            float64\n",
              "ANNUAL         float64\n",
              "Jan-Feb        float64\n",
              "Mar-May        float64\n",
              "Jun-Sep        float64\n",
              "Oct-Dec        float64\n",
              "dtype: object"
            ]
          },
          "metadata": {},
          "execution_count": 8
        }
      ]
    },
    {
      "cell_type": "code",
      "source": [
        "# no of missing values present \n",
        "df.isnull().sum()"
      ],
      "metadata": {
        "colab": {
          "base_uri": "https://localhost:8080/"
        },
        "id": "UG2nxpl9bVbA",
        "outputId": "90e8b881-fb79-4c2d-ac36-b60f196ca905"
      },
      "execution_count": 9,
      "outputs": [
        {
          "output_type": "execute_result",
          "data": {
            "text/plain": [
              "SUBDIVISION     0\n",
              "YEAR            0\n",
              "JAN             4\n",
              "FEB             3\n",
              "MAR             6\n",
              "APR             4\n",
              "MAY             3\n",
              "JUN             5\n",
              "JUL             7\n",
              "AUG             4\n",
              "SEP             6\n",
              "OCT             7\n",
              "NOV            11\n",
              "DEC            10\n",
              "ANNUAL         26\n",
              "Jan-Feb         6\n",
              "Mar-May         9\n",
              "Jun-Sep        10\n",
              "Oct-Dec        13\n",
              "dtype: int64"
            ]
          },
          "metadata": {},
          "execution_count": 9
        }
      ]
    },
    {
      "cell_type": "markdown",
      "source": [
        "The above result show yes it present so we can replace the missing values into 0"
      ],
      "metadata": {
        "id": "7_mxbPK9fgAv"
      }
    },
    {
      "cell_type": "code",
      "source": [
        "# replacing missing values into 0 \n",
        "df.fillna(value = 0,inplace =True)"
      ],
      "metadata": {
        "id": "4m7V4UsebbU3"
      },
      "execution_count": 10,
      "outputs": []
    },
    {
      "cell_type": "code",
      "source": [
        "# after replacing the values \n",
        "df.isnull().sum()"
      ],
      "metadata": {
        "colab": {
          "base_uri": "https://localhost:8080/"
        },
        "id": "F7_taVS9bfqS",
        "outputId": "18c6e3dd-41ca-4404-cb5c-e8345d6a47f2"
      },
      "execution_count": 11,
      "outputs": [
        {
          "output_type": "execute_result",
          "data": {
            "text/plain": [
              "SUBDIVISION    0\n",
              "YEAR           0\n",
              "JAN            0\n",
              "FEB            0\n",
              "MAR            0\n",
              "APR            0\n",
              "MAY            0\n",
              "JUN            0\n",
              "JUL            0\n",
              "AUG            0\n",
              "SEP            0\n",
              "OCT            0\n",
              "NOV            0\n",
              "DEC            0\n",
              "ANNUAL         0\n",
              "Jan-Feb        0\n",
              "Mar-May        0\n",
              "Jun-Sep        0\n",
              "Oct-Dec        0\n",
              "dtype: int64"
            ]
          },
          "metadata": {},
          "execution_count": 11
        }
      ]
    },
    {
      "cell_type": "markdown",
      "source": [
        "Now the result shows equal "
      ],
      "metadata": {
        "id": "C2-YRca1fvOo"
      }
    },
    {
      "cell_type": "code",
      "source": [
        "df.loc[21]"
      ],
      "metadata": {
        "colab": {
          "base_uri": "https://localhost:8080/"
        },
        "id": "K3ocdo0RbiQB",
        "outputId": "9cffe875-5ea2-45e7-d84a-aa09a366b48c"
      },
      "execution_count": 12,
      "outputs": [
        {
          "output_type": "execute_result",
          "data": {
            "text/plain": [
              "SUBDIVISION    ANDAMAN & NICOBAR ISLANDS\n",
              "YEAR                                1923\n",
              "JAN                                 79.5\n",
              "FEB                                  0.0\n",
              "MAR                                  0.0\n",
              "APR                                 91.3\n",
              "MAY                                293.5\n",
              "JUN                                808.4\n",
              "JUL                                636.9\n",
              "AUG                                182.2\n",
              "SEP                                560.5\n",
              "OCT                                131.9\n",
              "NOV                                197.4\n",
              "DEC                                 70.6\n",
              "ANNUAL                               0.0\n",
              "Jan-Feb                             79.5\n",
              "Mar-May                              0.0\n",
              "Jun-Sep                           2188.0\n",
              "Oct-Dec                            399.9\n",
              "Name: 21, dtype: object"
            ]
          },
          "metadata": {},
          "execution_count": 12
        }
      ]
    },
    {
      "cell_type": "code",
      "source": [
        "grouped = df.groupby(df.SUBDIVISION)\n",
        "TN = grouped.get_group(\"TAMIL NADU\")"
      ],
      "metadata": {
        "id": "MH8iVhNnbqjj"
      },
      "execution_count": 13,
      "outputs": []
    },
    {
      "cell_type": "code",
      "source": [
        "TN.head()"
      ],
      "metadata": {
        "colab": {
          "base_uri": "https://localhost:8080/",
          "height": 206
        },
        "id": "gIKD9To1byGH",
        "outputId": "98d07db1-0c53-46ec-faec-99c8bf1957d9"
      },
      "execution_count": 14,
      "outputs": [
        {
          "output_type": "execute_result",
          "data": {
            "text/plain": [
              "     SUBDIVISION  YEAR   JAN   FEB   MAR   APR    MAY   JUN   JUL    AUG  \\\n",
              "3427  TAMIL NADU  1901  24.5  39.1  21.7  36.0   74.0  41.8  49.3   67.9   \n",
              "3428  TAMIL NADU  1902  67.2   9.8  25.1  21.9   84.7  39.3  55.1  113.8   \n",
              "3429  TAMIL NADU  1903  19.3   7.8   1.7  18.2  128.5  58.5  72.6  115.0   \n",
              "3430  TAMIL NADU  1904  35.2   0.1   0.7  19.5  121.9  34.9  89.0   40.4   \n",
              "3431  TAMIL NADU  1905   6.5   7.5  17.2  64.8   83.7  49.8  39.0  101.8   \n",
              "\n",
              "        SEP    OCT    NOV    DEC  ANNUAL  Jan-Feb  Mar-May  Jun-Sep  Oct-Dec  \n",
              "3427  191.1  122.3  212.3   80.4   960.3     63.6    131.6    350.1    415.0  \n",
              "3428   98.6  282.2  174.9  165.8  1138.2     77.0    131.7    306.7    622.9  \n",
              "3429  210.4  128.1  200.5  203.2  1163.9     27.1    148.4    456.5    531.9  \n",
              "3430   85.7  163.2   23.6   49.1   663.1     35.3    142.1    249.9    235.8  \n",
              "3431   73.5  250.4  123.7    3.2   821.1     14.0    165.7    264.1    377.2  "
            ],
            "text/html": [
              "\n",
              "  <div id=\"df-74797549-dcaa-47fb-8ea9-2799bdfe9ed7\">\n",
              "    <div class=\"colab-df-container\">\n",
              "      <div>\n",
              "<style scoped>\n",
              "    .dataframe tbody tr th:only-of-type {\n",
              "        vertical-align: middle;\n",
              "    }\n",
              "\n",
              "    .dataframe tbody tr th {\n",
              "        vertical-align: top;\n",
              "    }\n",
              "\n",
              "    .dataframe thead th {\n",
              "        text-align: right;\n",
              "    }\n",
              "</style>\n",
              "<table border=\"1\" class=\"dataframe\">\n",
              "  <thead>\n",
              "    <tr style=\"text-align: right;\">\n",
              "      <th></th>\n",
              "      <th>SUBDIVISION</th>\n",
              "      <th>YEAR</th>\n",
              "      <th>JAN</th>\n",
              "      <th>FEB</th>\n",
              "      <th>MAR</th>\n",
              "      <th>APR</th>\n",
              "      <th>MAY</th>\n",
              "      <th>JUN</th>\n",
              "      <th>JUL</th>\n",
              "      <th>AUG</th>\n",
              "      <th>SEP</th>\n",
              "      <th>OCT</th>\n",
              "      <th>NOV</th>\n",
              "      <th>DEC</th>\n",
              "      <th>ANNUAL</th>\n",
              "      <th>Jan-Feb</th>\n",
              "      <th>Mar-May</th>\n",
              "      <th>Jun-Sep</th>\n",
              "      <th>Oct-Dec</th>\n",
              "    </tr>\n",
              "  </thead>\n",
              "  <tbody>\n",
              "    <tr>\n",
              "      <th>3427</th>\n",
              "      <td>TAMIL NADU</td>\n",
              "      <td>1901</td>\n",
              "      <td>24.5</td>\n",
              "      <td>39.1</td>\n",
              "      <td>21.7</td>\n",
              "      <td>36.0</td>\n",
              "      <td>74.0</td>\n",
              "      <td>41.8</td>\n",
              "      <td>49.3</td>\n",
              "      <td>67.9</td>\n",
              "      <td>191.1</td>\n",
              "      <td>122.3</td>\n",
              "      <td>212.3</td>\n",
              "      <td>80.4</td>\n",
              "      <td>960.3</td>\n",
              "      <td>63.6</td>\n",
              "      <td>131.6</td>\n",
              "      <td>350.1</td>\n",
              "      <td>415.0</td>\n",
              "    </tr>\n",
              "    <tr>\n",
              "      <th>3428</th>\n",
              "      <td>TAMIL NADU</td>\n",
              "      <td>1902</td>\n",
              "      <td>67.2</td>\n",
              "      <td>9.8</td>\n",
              "      <td>25.1</td>\n",
              "      <td>21.9</td>\n",
              "      <td>84.7</td>\n",
              "      <td>39.3</td>\n",
              "      <td>55.1</td>\n",
              "      <td>113.8</td>\n",
              "      <td>98.6</td>\n",
              "      <td>282.2</td>\n",
              "      <td>174.9</td>\n",
              "      <td>165.8</td>\n",
              "      <td>1138.2</td>\n",
              "      <td>77.0</td>\n",
              "      <td>131.7</td>\n",
              "      <td>306.7</td>\n",
              "      <td>622.9</td>\n",
              "    </tr>\n",
              "    <tr>\n",
              "      <th>3429</th>\n",
              "      <td>TAMIL NADU</td>\n",
              "      <td>1903</td>\n",
              "      <td>19.3</td>\n",
              "      <td>7.8</td>\n",
              "      <td>1.7</td>\n",
              "      <td>18.2</td>\n",
              "      <td>128.5</td>\n",
              "      <td>58.5</td>\n",
              "      <td>72.6</td>\n",
              "      <td>115.0</td>\n",
              "      <td>210.4</td>\n",
              "      <td>128.1</td>\n",
              "      <td>200.5</td>\n",
              "      <td>203.2</td>\n",
              "      <td>1163.9</td>\n",
              "      <td>27.1</td>\n",
              "      <td>148.4</td>\n",
              "      <td>456.5</td>\n",
              "      <td>531.9</td>\n",
              "    </tr>\n",
              "    <tr>\n",
              "      <th>3430</th>\n",
              "      <td>TAMIL NADU</td>\n",
              "      <td>1904</td>\n",
              "      <td>35.2</td>\n",
              "      <td>0.1</td>\n",
              "      <td>0.7</td>\n",
              "      <td>19.5</td>\n",
              "      <td>121.9</td>\n",
              "      <td>34.9</td>\n",
              "      <td>89.0</td>\n",
              "      <td>40.4</td>\n",
              "      <td>85.7</td>\n",
              "      <td>163.2</td>\n",
              "      <td>23.6</td>\n",
              "      <td>49.1</td>\n",
              "      <td>663.1</td>\n",
              "      <td>35.3</td>\n",
              "      <td>142.1</td>\n",
              "      <td>249.9</td>\n",
              "      <td>235.8</td>\n",
              "    </tr>\n",
              "    <tr>\n",
              "      <th>3431</th>\n",
              "      <td>TAMIL NADU</td>\n",
              "      <td>1905</td>\n",
              "      <td>6.5</td>\n",
              "      <td>7.5</td>\n",
              "      <td>17.2</td>\n",
              "      <td>64.8</td>\n",
              "      <td>83.7</td>\n",
              "      <td>49.8</td>\n",
              "      <td>39.0</td>\n",
              "      <td>101.8</td>\n",
              "      <td>73.5</td>\n",
              "      <td>250.4</td>\n",
              "      <td>123.7</td>\n",
              "      <td>3.2</td>\n",
              "      <td>821.1</td>\n",
              "      <td>14.0</td>\n",
              "      <td>165.7</td>\n",
              "      <td>264.1</td>\n",
              "      <td>377.2</td>\n",
              "    </tr>\n",
              "  </tbody>\n",
              "</table>\n",
              "</div>\n",
              "      <button class=\"colab-df-convert\" onclick=\"convertToInteractive('df-74797549-dcaa-47fb-8ea9-2799bdfe9ed7')\"\n",
              "              title=\"Convert this dataframe to an interactive table.\"\n",
              "              style=\"display:none;\">\n",
              "        \n",
              "  <svg xmlns=\"http://www.w3.org/2000/svg\" height=\"24px\"viewBox=\"0 0 24 24\"\n",
              "       width=\"24px\">\n",
              "    <path d=\"M0 0h24v24H0V0z\" fill=\"none\"/>\n",
              "    <path d=\"M18.56 5.44l.94 2.06.94-2.06 2.06-.94-2.06-.94-.94-2.06-.94 2.06-2.06.94zm-11 1L8.5 8.5l.94-2.06 2.06-.94-2.06-.94L8.5 2.5l-.94 2.06-2.06.94zm10 10l.94 2.06.94-2.06 2.06-.94-2.06-.94-.94-2.06-.94 2.06-2.06.94z\"/><path d=\"M17.41 7.96l-1.37-1.37c-.4-.4-.92-.59-1.43-.59-.52 0-1.04.2-1.43.59L10.3 9.45l-7.72 7.72c-.78.78-.78 2.05 0 2.83L4 21.41c.39.39.9.59 1.41.59.51 0 1.02-.2 1.41-.59l7.78-7.78 2.81-2.81c.8-.78.8-2.07 0-2.86zM5.41 20L4 18.59l7.72-7.72 1.47 1.35L5.41 20z\"/>\n",
              "  </svg>\n",
              "      </button>\n",
              "      \n",
              "  <style>\n",
              "    .colab-df-container {\n",
              "      display:flex;\n",
              "      flex-wrap:wrap;\n",
              "      gap: 12px;\n",
              "    }\n",
              "\n",
              "    .colab-df-convert {\n",
              "      background-color: #E8F0FE;\n",
              "      border: none;\n",
              "      border-radius: 50%;\n",
              "      cursor: pointer;\n",
              "      display: none;\n",
              "      fill: #1967D2;\n",
              "      height: 32px;\n",
              "      padding: 0 0 0 0;\n",
              "      width: 32px;\n",
              "    }\n",
              "\n",
              "    .colab-df-convert:hover {\n",
              "      background-color: #E2EBFA;\n",
              "      box-shadow: 0px 1px 2px rgba(60, 64, 67, 0.3), 0px 1px 3px 1px rgba(60, 64, 67, 0.15);\n",
              "      fill: #174EA6;\n",
              "    }\n",
              "\n",
              "    [theme=dark] .colab-df-convert {\n",
              "      background-color: #3B4455;\n",
              "      fill: #D2E3FC;\n",
              "    }\n",
              "\n",
              "    [theme=dark] .colab-df-convert:hover {\n",
              "      background-color: #434B5C;\n",
              "      box-shadow: 0px 1px 3px 1px rgba(0, 0, 0, 0.15);\n",
              "      filter: drop-shadow(0px 1px 2px rgba(0, 0, 0, 0.3));\n",
              "      fill: #FFFFFF;\n",
              "    }\n",
              "  </style>\n",
              "\n",
              "      <script>\n",
              "        const buttonEl =\n",
              "          document.querySelector('#df-74797549-dcaa-47fb-8ea9-2799bdfe9ed7 button.colab-df-convert');\n",
              "        buttonEl.style.display =\n",
              "          google.colab.kernel.accessAllowed ? 'block' : 'none';\n",
              "\n",
              "        async function convertToInteractive(key) {\n",
              "          const element = document.querySelector('#df-74797549-dcaa-47fb-8ea9-2799bdfe9ed7');\n",
              "          const dataTable =\n",
              "            await google.colab.kernel.invokeFunction('convertToInteractive',\n",
              "                                                     [key], {});\n",
              "          if (!dataTable) return;\n",
              "\n",
              "          const docLinkHtml = 'Like what you see? Visit the ' +\n",
              "            '<a target=\"_blank\" href=https://colab.research.google.com/notebooks/data_table.ipynb>data table notebook</a>'\n",
              "            + ' to learn more about interactive tables.';\n",
              "          element.innerHTML = '';\n",
              "          dataTable['output_type'] = 'display_data';\n",
              "          await google.colab.output.renderOutput(dataTable, element);\n",
              "          const docLink = document.createElement('div');\n",
              "          docLink.innerHTML = docLinkHtml;\n",
              "          element.appendChild(docLink);\n",
              "        }\n",
              "      </script>\n",
              "    </div>\n",
              "  </div>\n",
              "  "
            ]
          },
          "metadata": {},
          "execution_count": 14
        }
      ]
    },
    {
      "cell_type": "code",
      "source": [
        "TN.tail()"
      ],
      "metadata": {
        "colab": {
          "base_uri": "https://localhost:8080/",
          "height": 206
        },
        "id": "pNjCPDo3byhm",
        "outputId": "ee11e0d8-0345-40f5-8b12-cd408423157d"
      },
      "execution_count": 15,
      "outputs": [
        {
          "output_type": "execute_result",
          "data": {
            "text/plain": [
              "     SUBDIVISION  YEAR  JAN   FEB   MAR    APR    MAY   JUN   JUL    AUG  \\\n",
              "3537  TAMIL NADU  2011  4.3  11.2   8.0   91.5   33.4  56.0  45.5  128.9   \n",
              "3538  TAMIL NADU  2012  3.0   0.1   2.5   35.5   41.9  30.1  46.5   98.0   \n",
              "3539  TAMIL NADU  2013  3.9  30.9  30.0   20.3   42.0  54.6  42.7  110.7   \n",
              "3540  TAMIL NADU  2014  7.4   6.1   8.1    8.3  139.1  47.8  50.6  117.7   \n",
              "3541  TAMIL NADU  2015  8.3   2.3  21.7  108.8  112.4  62.4  43.5   81.6   \n",
              "\n",
              "        SEP    OCT    NOV    DEC  ANNUAL  Jan-Feb  Mar-May  Jun-Sep  Oct-Dec  \n",
              "3537   76.0  200.4  230.5   41.0   926.5     15.5    132.8    306.4    471.8  \n",
              "3538   84.9  235.2   44.5   14.0   636.1      3.1     79.9    259.5    293.6  \n",
              "3539  113.5  127.9  112.3   53.2   741.9     34.8     92.2    321.5    293.4  \n",
              "3540   98.9  252.2  110.8   66.0   913.0     13.4    155.5    315.1    428.9  \n",
              "3541   98.4  132.6  379.8  152.8  1204.6     10.6    242.8    285.9    665.3  "
            ],
            "text/html": [
              "\n",
              "  <div id=\"df-ce09f145-1c2d-4c3d-b3f5-387036a93bbd\">\n",
              "    <div class=\"colab-df-container\">\n",
              "      <div>\n",
              "<style scoped>\n",
              "    .dataframe tbody tr th:only-of-type {\n",
              "        vertical-align: middle;\n",
              "    }\n",
              "\n",
              "    .dataframe tbody tr th {\n",
              "        vertical-align: top;\n",
              "    }\n",
              "\n",
              "    .dataframe thead th {\n",
              "        text-align: right;\n",
              "    }\n",
              "</style>\n",
              "<table border=\"1\" class=\"dataframe\">\n",
              "  <thead>\n",
              "    <tr style=\"text-align: right;\">\n",
              "      <th></th>\n",
              "      <th>SUBDIVISION</th>\n",
              "      <th>YEAR</th>\n",
              "      <th>JAN</th>\n",
              "      <th>FEB</th>\n",
              "      <th>MAR</th>\n",
              "      <th>APR</th>\n",
              "      <th>MAY</th>\n",
              "      <th>JUN</th>\n",
              "      <th>JUL</th>\n",
              "      <th>AUG</th>\n",
              "      <th>SEP</th>\n",
              "      <th>OCT</th>\n",
              "      <th>NOV</th>\n",
              "      <th>DEC</th>\n",
              "      <th>ANNUAL</th>\n",
              "      <th>Jan-Feb</th>\n",
              "      <th>Mar-May</th>\n",
              "      <th>Jun-Sep</th>\n",
              "      <th>Oct-Dec</th>\n",
              "    </tr>\n",
              "  </thead>\n",
              "  <tbody>\n",
              "    <tr>\n",
              "      <th>3537</th>\n",
              "      <td>TAMIL NADU</td>\n",
              "      <td>2011</td>\n",
              "      <td>4.3</td>\n",
              "      <td>11.2</td>\n",
              "      <td>8.0</td>\n",
              "      <td>91.5</td>\n",
              "      <td>33.4</td>\n",
              "      <td>56.0</td>\n",
              "      <td>45.5</td>\n",
              "      <td>128.9</td>\n",
              "      <td>76.0</td>\n",
              "      <td>200.4</td>\n",
              "      <td>230.5</td>\n",
              "      <td>41.0</td>\n",
              "      <td>926.5</td>\n",
              "      <td>15.5</td>\n",
              "      <td>132.8</td>\n",
              "      <td>306.4</td>\n",
              "      <td>471.8</td>\n",
              "    </tr>\n",
              "    <tr>\n",
              "      <th>3538</th>\n",
              "      <td>TAMIL NADU</td>\n",
              "      <td>2012</td>\n",
              "      <td>3.0</td>\n",
              "      <td>0.1</td>\n",
              "      <td>2.5</td>\n",
              "      <td>35.5</td>\n",
              "      <td>41.9</td>\n",
              "      <td>30.1</td>\n",
              "      <td>46.5</td>\n",
              "      <td>98.0</td>\n",
              "      <td>84.9</td>\n",
              "      <td>235.2</td>\n",
              "      <td>44.5</td>\n",
              "      <td>14.0</td>\n",
              "      <td>636.1</td>\n",
              "      <td>3.1</td>\n",
              "      <td>79.9</td>\n",
              "      <td>259.5</td>\n",
              "      <td>293.6</td>\n",
              "    </tr>\n",
              "    <tr>\n",
              "      <th>3539</th>\n",
              "      <td>TAMIL NADU</td>\n",
              "      <td>2013</td>\n",
              "      <td>3.9</td>\n",
              "      <td>30.9</td>\n",
              "      <td>30.0</td>\n",
              "      <td>20.3</td>\n",
              "      <td>42.0</td>\n",
              "      <td>54.6</td>\n",
              "      <td>42.7</td>\n",
              "      <td>110.7</td>\n",
              "      <td>113.5</td>\n",
              "      <td>127.9</td>\n",
              "      <td>112.3</td>\n",
              "      <td>53.2</td>\n",
              "      <td>741.9</td>\n",
              "      <td>34.8</td>\n",
              "      <td>92.2</td>\n",
              "      <td>321.5</td>\n",
              "      <td>293.4</td>\n",
              "    </tr>\n",
              "    <tr>\n",
              "      <th>3540</th>\n",
              "      <td>TAMIL NADU</td>\n",
              "      <td>2014</td>\n",
              "      <td>7.4</td>\n",
              "      <td>6.1</td>\n",
              "      <td>8.1</td>\n",
              "      <td>8.3</td>\n",
              "      <td>139.1</td>\n",
              "      <td>47.8</td>\n",
              "      <td>50.6</td>\n",
              "      <td>117.7</td>\n",
              "      <td>98.9</td>\n",
              "      <td>252.2</td>\n",
              "      <td>110.8</td>\n",
              "      <td>66.0</td>\n",
              "      <td>913.0</td>\n",
              "      <td>13.4</td>\n",
              "      <td>155.5</td>\n",
              "      <td>315.1</td>\n",
              "      <td>428.9</td>\n",
              "    </tr>\n",
              "    <tr>\n",
              "      <th>3541</th>\n",
              "      <td>TAMIL NADU</td>\n",
              "      <td>2015</td>\n",
              "      <td>8.3</td>\n",
              "      <td>2.3</td>\n",
              "      <td>21.7</td>\n",
              "      <td>108.8</td>\n",
              "      <td>112.4</td>\n",
              "      <td>62.4</td>\n",
              "      <td>43.5</td>\n",
              "      <td>81.6</td>\n",
              "      <td>98.4</td>\n",
              "      <td>132.6</td>\n",
              "      <td>379.8</td>\n",
              "      <td>152.8</td>\n",
              "      <td>1204.6</td>\n",
              "      <td>10.6</td>\n",
              "      <td>242.8</td>\n",
              "      <td>285.9</td>\n",
              "      <td>665.3</td>\n",
              "    </tr>\n",
              "  </tbody>\n",
              "</table>\n",
              "</div>\n",
              "      <button class=\"colab-df-convert\" onclick=\"convertToInteractive('df-ce09f145-1c2d-4c3d-b3f5-387036a93bbd')\"\n",
              "              title=\"Convert this dataframe to an interactive table.\"\n",
              "              style=\"display:none;\">\n",
              "        \n",
              "  <svg xmlns=\"http://www.w3.org/2000/svg\" height=\"24px\"viewBox=\"0 0 24 24\"\n",
              "       width=\"24px\">\n",
              "    <path d=\"M0 0h24v24H0V0z\" fill=\"none\"/>\n",
              "    <path d=\"M18.56 5.44l.94 2.06.94-2.06 2.06-.94-2.06-.94-.94-2.06-.94 2.06-2.06.94zm-11 1L8.5 8.5l.94-2.06 2.06-.94-2.06-.94L8.5 2.5l-.94 2.06-2.06.94zm10 10l.94 2.06.94-2.06 2.06-.94-2.06-.94-.94-2.06-.94 2.06-2.06.94z\"/><path d=\"M17.41 7.96l-1.37-1.37c-.4-.4-.92-.59-1.43-.59-.52 0-1.04.2-1.43.59L10.3 9.45l-7.72 7.72c-.78.78-.78 2.05 0 2.83L4 21.41c.39.39.9.59 1.41.59.51 0 1.02-.2 1.41-.59l7.78-7.78 2.81-2.81c.8-.78.8-2.07 0-2.86zM5.41 20L4 18.59l7.72-7.72 1.47 1.35L5.41 20z\"/>\n",
              "  </svg>\n",
              "      </button>\n",
              "      \n",
              "  <style>\n",
              "    .colab-df-container {\n",
              "      display:flex;\n",
              "      flex-wrap:wrap;\n",
              "      gap: 12px;\n",
              "    }\n",
              "\n",
              "    .colab-df-convert {\n",
              "      background-color: #E8F0FE;\n",
              "      border: none;\n",
              "      border-radius: 50%;\n",
              "      cursor: pointer;\n",
              "      display: none;\n",
              "      fill: #1967D2;\n",
              "      height: 32px;\n",
              "      padding: 0 0 0 0;\n",
              "      width: 32px;\n",
              "    }\n",
              "\n",
              "    .colab-df-convert:hover {\n",
              "      background-color: #E2EBFA;\n",
              "      box-shadow: 0px 1px 2px rgba(60, 64, 67, 0.3), 0px 1px 3px 1px rgba(60, 64, 67, 0.15);\n",
              "      fill: #174EA6;\n",
              "    }\n",
              "\n",
              "    [theme=dark] .colab-df-convert {\n",
              "      background-color: #3B4455;\n",
              "      fill: #D2E3FC;\n",
              "    }\n",
              "\n",
              "    [theme=dark] .colab-df-convert:hover {\n",
              "      background-color: #434B5C;\n",
              "      box-shadow: 0px 1px 3px 1px rgba(0, 0, 0, 0.15);\n",
              "      filter: drop-shadow(0px 1px 2px rgba(0, 0, 0, 0.3));\n",
              "      fill: #FFFFFF;\n",
              "    }\n",
              "  </style>\n",
              "\n",
              "      <script>\n",
              "        const buttonEl =\n",
              "          document.querySelector('#df-ce09f145-1c2d-4c3d-b3f5-387036a93bbd button.colab-df-convert');\n",
              "        buttonEl.style.display =\n",
              "          google.colab.kernel.accessAllowed ? 'block' : 'none';\n",
              "\n",
              "        async function convertToInteractive(key) {\n",
              "          const element = document.querySelector('#df-ce09f145-1c2d-4c3d-b3f5-387036a93bbd');\n",
              "          const dataTable =\n",
              "            await google.colab.kernel.invokeFunction('convertToInteractive',\n",
              "                                                     [key], {});\n",
              "          if (!dataTable) return;\n",
              "\n",
              "          const docLinkHtml = 'Like what you see? Visit the ' +\n",
              "            '<a target=\"_blank\" href=https://colab.research.google.com/notebooks/data_table.ipynb>data table notebook</a>'\n",
              "            + ' to learn more about interactive tables.';\n",
              "          element.innerHTML = '';\n",
              "          dataTable['output_type'] = 'display_data';\n",
              "          await google.colab.output.renderOutput(dataTable, element);\n",
              "          const docLink = document.createElement('div');\n",
              "          docLink.innerHTML = docLinkHtml;\n",
              "          element.appendChild(docLink);\n",
              "        }\n",
              "      </script>\n",
              "    </div>\n",
              "  </div>\n",
              "  "
            ]
          },
          "metadata": {},
          "execution_count": 15
        }
      ]
    },
    {
      "cell_type": "markdown",
      "source": [
        "**Visualizing data **"
      ],
      "metadata": {
        "id": "8n_IACmSf0CX"
      }
    },
    {
      "cell_type": "code",
      "source": [
        "# histogram \n",
        "TN.hist(figsize=(15,15), color = 'orange', edgecolor='red')"
      ],
      "metadata": {
        "colab": {
          "base_uri": "https://localhost:8080/",
          "height": 1000
        },
        "id": "Pnexd6K-b0t-",
        "outputId": "1fdb0ddd-411a-482e-9bda-e7b11fa59a8d"
      },
      "execution_count": 18,
      "outputs": [
        {
          "output_type": "execute_result",
          "data": {
            "text/plain": [
              "array([[<Axes: title={'center': 'YEAR'}>,\n",
              "        <Axes: title={'center': 'JAN'}>, <Axes: title={'center': 'FEB'}>,\n",
              "        <Axes: title={'center': 'MAR'}>],\n",
              "       [<Axes: title={'center': 'APR'}>, <Axes: title={'center': 'MAY'}>,\n",
              "        <Axes: title={'center': 'JUN'}>, <Axes: title={'center': 'JUL'}>],\n",
              "       [<Axes: title={'center': 'AUG'}>, <Axes: title={'center': 'SEP'}>,\n",
              "        <Axes: title={'center': 'OCT'}>, <Axes: title={'center': 'NOV'}>],\n",
              "       [<Axes: title={'center': 'DEC'}>,\n",
              "        <Axes: title={'center': 'ANNUAL'}>,\n",
              "        <Axes: title={'center': 'Jan-Feb'}>,\n",
              "        <Axes: title={'center': 'Mar-May'}>],\n",
              "       [<Axes: title={'center': 'Jun-Sep'}>,\n",
              "        <Axes: title={'center': 'Oct-Dec'}>, <Axes: >, <Axes: >]],\n",
              "      dtype=object)"
            ]
          },
          "metadata": {},
          "execution_count": 18
        },
        {
          "output_type": "display_data",
          "data": {
            "text/plain": [
              "<Figure size 1500x1500 with 20 Axes>"
            ],
            "image/png": "[encoded data removed]"
          },
          "metadata": {}
        }
      ]
    },
    {
      "cell_type": "code",
      "source": [
        "data = np.asarray(TN[['FEB', 'MAR', 'APR','MAY']])\n",
        "print(np.shape(data))\n",
        "X = data[:,0:3]\n",
        "y = data[:,3]"
      ],
      "metadata": {
        "colab": {
          "base_uri": "https://localhost:8080/"
        },
        "id": "m6wQ0lOXcelI",
        "outputId": "f2958f86-aedb-452b-e153-2cfcb50b4e84"
      },
      "execution_count": 19,
      "outputs": [
        {
          "output_type": "stream",
          "name": "stdout",
          "text": [
            "(115, 4)\n"
          ]
        }
      ]
    },
    {
      "cell_type": "code",
      "source": [
        "data = np.asarray(TN[['JAN', 'FEB', 'MAR', 'APR', 'MAY', 'JUN', 'JUL',\n",
        "       'AUG', 'SEP', 'OCT', 'NOV', 'DEC']])\n",
        "print(np.shape(data))"
      ],
      "metadata": {
        "colab": {
          "base_uri": "https://localhost:8080/"
        },
        "id": "9i-UjA2actAo",
        "outputId": "b189368a-6a7c-4345-d156-e8f50d800fa0"
      },
      "execution_count": 20,
      "outputs": [
        {
          "output_type": "stream",
          "name": "stdout",
          "text": [
            "(115, 12)\n"
          ]
        }
      ]
    },
    {
      "cell_type": "code",
      "source": [
        "X = None; y = None\n",
        "for i in range(data.shape[1]-3):\n",
        "    if X is None:\n",
        "        X = data[:, i:i+3]\n",
        "        y = data[:, i+3]\n",
        "    else:\n",
        "        X = np.concatenate((X, data[:, i:i+3]), axis=0)\n",
        "        y = np.concatenate((y, data[:, i+3]), axis=0)"
      ],
      "metadata": {
        "id": "a2XtCzl-c3ao"
      },
      "execution_count": 23,
      "outputs": []
    },
    {
      "cell_type": "markdown",
      "source": [
        "**Splitting the DataSet into Train / Test** "
      ],
      "metadata": {
        "id": "qhfJ0OG6gGKv"
      }
    },
    {
      "cell_type": "code",
      "source": [
        "# Splitting into train and test \n",
        "X_train, X_test, y_train, y_test = train_test_split(X, y, test_size=0.2, random_state=42)"
      ],
      "metadata": {
        "id": "Yvx0zesXcywA"
      },
      "execution_count": 24,
      "outputs": []
    },
    {
      "cell_type": "code",
      "source": [
        "np.shape(X_train)"
      ],
      "metadata": {
        "colab": {
          "base_uri": "https://localhost:8080/"
        },
        "id": "1ifvjePphTZW",
        "outputId": "4244b460-4b34-44e8-ccc0-d2e1bd3ee9fd"
      },
      "execution_count": 31,
      "outputs": [
        {
          "output_type": "execute_result",
          "data": {
            "text/plain": [
              "(828, 3)"
            ]
          },
          "metadata": {},
          "execution_count": 31
        }
      ]
    },
    {
      "cell_type": "code",
      "source": [
        "np.shape(X_test)"
      ],
      "metadata": {
        "colab": {
          "base_uri": "https://localhost:8080/"
        },
        "id": "g_qy8bx5c0Ah",
        "outputId": "6b6f36ff-edbf-45df-ea8c-2d60c01fa6eb"
      },
      "execution_count": 25,
      "outputs": [
        {
          "output_type": "execute_result",
          "data": {
            "text/plain": [
              "(207, 3)"
            ]
          },
          "metadata": {},
          "execution_count": 25
        }
      ]
    },
    {
      "cell_type": "code",
      "source": [
        "np.shape(y_train)"
      ],
      "metadata": {
        "colab": {
          "base_uri": "https://localhost:8080/"
        },
        "id": "qcWzQMR0haZG",
        "outputId": "94d356a1-67e8-4b85-93f2-26fff79780a5"
      },
      "execution_count": 33,
      "outputs": [
        {
          "output_type": "execute_result",
          "data": {
            "text/plain": [
              "(828,)"
            ]
          },
          "metadata": {},
          "execution_count": 33
        }
      ]
    },
    {
      "cell_type": "code",
      "source": [
        "np.shape(y_test)"
      ],
      "metadata": {
        "colab": {
          "base_uri": "https://localhost:8080/"
        },
        "id": "Sq_47BY3hXGO",
        "outputId": "add0448c-b1f3-4551-e026-7a1b613f41ec"
      },
      "execution_count": 32,
      "outputs": [
        {
          "output_type": "execute_result",
          "data": {
            "text/plain": [
              "(207,)"
            ]
          },
          "metadata": {},
          "execution_count": 32
        }
      ]
    },
    {
      "cell_type": "markdown",
      "source": [
        "**Model Building**"
      ],
      "metadata": {
        "id": "_xg61R4JgPmg"
      }
    },
    {
      "cell_type": "markdown",
      "source": [
        "**1. Linear Regression**"
      ],
      "metadata": {
        "id": "kTWdcY7hgQxH"
      }
    },
    {
      "cell_type": "code",
      "source": [
        "linear_regressor = LinearRegression()  \n",
        "linear_regressor.fit(X_train, y_train)  \n",
        "Y_pred = linear_regressor.predict(X_test)  \n",
        "mean_absolute_error(y_test, Y_pred)"
      ],
      "metadata": {
        "colab": {
          "base_uri": "https://localhost:8080/"
        },
        "id": "9t1leY3Qc1Rz",
        "outputId": "b79a33ca-dbee-4da0-9687-42e55a46fc74"
      },
      "execution_count": 26,
      "outputs": [
        {
          "output_type": "execute_result",
          "data": {
            "text/plain": [
              "46.89449574289162"
            ]
          },
          "metadata": {},
          "execution_count": 26
        }
      ]
    },
    {
      "cell_type": "markdown",
      "source": [
        "**2. RandomForest Regression**"
      ],
      "metadata": {
        "id": "Frv_Y8irgVGO"
      }
    },
    {
      "cell_type": "code",
      "source": [
        "rf = RandomForestRegressor(n_estimators = 100, max_depth=10, n_jobs=1)\n",
        "rf.fit(X_train, y_train)\n",
        "y_pred = rf.predict(X_test)\n",
        "mean_absolute_error(y_test, y_pred)"
      ],
      "metadata": {
        "colab": {
          "base_uri": "https://localhost:8080/"
        },
        "id": "ws5280-6c-Ww",
        "outputId": "5e0101b4-b565-4e11-847d-d703175b587b"
      },
      "execution_count": 27,
      "outputs": [
        {
          "output_type": "execute_result",
          "data": {
            "text/plain": [
              "45.16490401976896"
            ]
          },
          "metadata": {},
          "execution_count": 27
        }
      ]
    }
  ]
}